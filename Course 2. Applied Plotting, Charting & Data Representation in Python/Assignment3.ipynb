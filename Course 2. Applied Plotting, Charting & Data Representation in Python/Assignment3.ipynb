{
 "cells": [
  {
   "cell_type": "markdown",
   "metadata": {},
   "source": [
    "# Assignment 3 - Building a Custom Visualization\n",
    "\n",
    "---\n",
    "\n",
    "In this assignment you must choose one of the options presented below and submit a visual as well as your source code for peer grading. The details of how you solve the assignment are up to you, although your assignment must use matplotlib so that your peers can evaluate your work. The options differ in challenge level, but there are no grades associated with the challenge level you chose. However, your peers will be asked to ensure you at least met a minimum quality for a given technique in order to pass. Implement the technique fully (or exceed it!) and you should be able to earn full grades for the assignment.\n",
    "\n",
    "\n",
    "&nbsp;&nbsp;&nbsp;&nbsp;&nbsp;&nbsp;Ferreira, N., Fisher, D., & Konig, A. C. (2014, April). [Sample-oriented task-driven visualizations: allowing users to make better, more confident decisions.](https://www.microsoft.com/en-us/research/wp-content/uploads/2016/02/Ferreira_Fisher_Sample_Oriented_Tasks.pdf) \n",
    "&nbsp;&nbsp;&nbsp;&nbsp;&nbsp;&nbsp;In Proceedings of the SIGCHI Conference on Human Factors in Computing Systems (pp. 571-580). ACM. ([video](https://www.youtube.com/watch?v=BI7GAs-va-Q))\n",
    "\n",
    "\n",
    "In this [paper](https://www.microsoft.com/en-us/research/wp-content/uploads/2016/02/Ferreira_Fisher_Sample_Oriented_Tasks.pdf) the authors describe the challenges users face when trying to make judgements about probabilistic data generated through samples. As an example, they look at a bar chart of four years of data (replicated below in Figure 1). Each year has a y-axis value, which is derived from a sample of a larger dataset. For instance, the first value might be the number votes in a given district or riding for 1992, with the average being around 33,000. On top of this is plotted the 95% confidence interval for the mean (see the boxplot lectures for more information, and the yerr parameter of barcharts).\n",
    "\n",
    "<br>\n",
    "<img src=\"readonly/Assignment3Fig1.png\" alt=\"Figure 1\" style=\"width: 400px;\"/>\n",
    "<h4 style=\"text-align: center;\" markdown=\"1\">  &nbsp;&nbsp;&nbsp;&nbsp;&nbsp;&nbsp;&nbsp;&nbsp;Figure 1 from (Ferreira et al, 2014).</h4>\n",
    "\n",
    "<br>\n",
    "\n",
    "A challenge that users face is that, for a given y-axis value (e.g. 42,000), it is difficult to know which x-axis values are most likely to be representative, because the confidence levels overlap and their distributions are different (the lengths of the confidence interval bars are unequal). One of the solutions the authors propose for this problem (Figure 2c) is to allow users to indicate the y-axis value of interest (e.g. 42,000) and then draw a horizontal line and color bars based on this value. So bars might be colored red if they are definitely above this value (given the confidence interval), blue if they are definitely below this value, or white if they contain this value.\n",
    "\n",
    "\n",
    "<br>\n",
    "<img src=\"readonly/Assignment3Fig2c.png\" alt=\"Figure 1\" style=\"width: 400px;\"/>\n",
    "<h4 style=\"text-align: center;\" markdown=\"1\">  Figure 2c from (Ferreira et al. 2014). Note that the colorbar legend at the bottom as well as the arrows are not required in the assignment descriptions below.</h4>\n",
    "\n",
    "<br>\n",
    "<br>\n",
    "\n",
    "**Easiest option:** Implement the bar coloring as described above - a color scale with only three colors, (e.g. blue, white, and red). Assume the user provides the y axis value of interest as a parameter or variable.\n",
    "\n",
    "\n",
    "**Harder option:** Implement the bar coloring as described in the paper, where the color of the bar is actually based on the amount of data covered (e.g. a gradient ranging from dark blue for the distribution being certainly below this y-axis, to white if the value is certainly contained, to dark red if the value is certainly not contained as the distribution is above the axis).\n",
    "\n",
    "**Even Harder option:** Add interactivity to the above, which allows the user to click on the y axis to set the value of interest. The bar colors should change with respect to what value the user has selected.\n",
    "\n",
    "**Hardest option:** Allow the user to interactively set a range of y values they are interested in, and recolor based on this (e.g. a y-axis band, see the paper for more details).\n",
    "\n",
    "---\n",
    "\n",
    "*Note: The data given for this assignment is not the same as the data used in the article and as a result the visualizations may look a little different.*"
   ]
  },
  {
   "cell_type": "code",
   "execution_count": 89,
   "metadata": {
    "collapsed": false
   },
   "outputs": [
    {
     "data": {
      "image/png": "[encoded data removed]",
      "text/plain": [
       "<matplotlib.figure.Figure at 0x7fab9539b470>"
      ]
     },
     "metadata": {},
     "output_type": "display_data"
    }
   ],
   "source": [
    "# imports\n",
    "\n",
    "import numpy as np\n",
    "import matplotlib.pyplot as plt\n",
    "import pandas as pd\n",
    "import matplotlib \n",
    "from matplotlib.cm import ScalarMappable\n",
    "\n",
    "# create DataFrame\n",
    "\n",
    "np.random.seed(12345)\n",
    "\n",
    "df = pd.DataFrame( { '1992': np.random.normal(32000,200000,3650), \n",
    "                   '1993': np.random.normal(43000,100000,3650), \n",
    "                   '1994': np.random.normal(43500,140000,3650), \n",
    "                   '1995': np.random.normal(48000,70000,3650) } ) \n",
    "\n",
    "# mean of years\n",
    "mean=df.mean(axis=0)\n",
    "\n",
    "# standard error of a mean \n",
    "sem = df.sem(axis= 0 ) * 1.96\n",
    "\n",
    "    \n",
    "# plot lists\n",
    "year = ['1992', '1993', '1994', '1995']\n",
    "x_pos = np.arange(len(year))\n",
    "\n",
    "# colormap\n",
    "my_cmap = matplotlib.cm.get_cmap('coolwarm')\n",
    "\n",
    "Y=42000\n",
    "\n",
    "# initiate plot\n",
    "fig = plt.figure(figsize = (12,8))\n",
    "ax = fig.add_subplot(111)\n",
    "\n",
    "#  function for color assignment \n",
    "i=0\n",
    "def get_color(y,mean,sem_):\n",
    "    low = mean - sem_\n",
    "    high = mean + sem_\n",
    "    if y <= low:\n",
    "        out = 1-1e-10\n",
    "    elif y >= high:\n",
    "        out = 0\n",
    "    else:\n",
    "        out = 1-(y-low)/(high-low)\n",
    "    return out\n",
    "\n",
    "color_list=[my_cmap(get_color(Y,mean[i], sem[i])) for i in range(4)]\n",
    "\n",
    "# creating bars\n",
    "i=0\n",
    "bars = []\n",
    "while i < 4:\n",
    "    bc=ax.bar(x_pos[i], mean[i], yerr=sem[i], color=color_list[i], align='center', alpha=0.7, ecolor='black', capsize=10)\n",
    "    i=i+1\n",
    "\n",
    "# labels setup \n",
    "ax.set_ylabel(\"Sample Data's Mean\")\n",
    "ax.set_xticks(x_pos)\n",
    "ax.set_xticklabels(year)\n",
    "ax.set_title(\"Sample Data Visualization\")\n",
    "plt.axhline(y=Y, color = 'black')\n",
    "ax.yaxis.grid(True, alpha = 0.4)    \n",
    "\n",
    "# color bar\n",
    "sm = ScalarMappable(cmap=my_cmap, norm=plt.Normalize(0,1))\n",
    "sm.set_array([])\n",
    "col_bar = plt.colorbar(sm)\n",
    "col_bar.set_label('Red - out of range  |  Blue - in range', rotation = 270, labelpad = 15)\n",
    "\n",
    "# display figure\n",
    "plt.show()    \n",
    "\n",
    "\n"
   ]
  },
  {
   "cell_type": "code",
   "execution_count": null,
   "metadata": {
    "collapsed": true
   },
   "outputs": [],
   "source": []
  }
 ],
 "metadata": {
  "kernelspec": {
   "display_name": "Python 3",
   "language": "python",
   "name": "python3"
  },
  "language_info": {
   "codemirror_mode": {
    "name": "ipython",
    "version": 3
   },
   "file_extension": ".py",
   "mimetype": "text/x-python",
   "name": "python",
   "nbconvert_exporter": "python",
   "pygments_lexer": "ipython3",
   "version": "3.6.2"
  }
 },
 "nbformat": 4,
 "nbformat_minor": 2
}
