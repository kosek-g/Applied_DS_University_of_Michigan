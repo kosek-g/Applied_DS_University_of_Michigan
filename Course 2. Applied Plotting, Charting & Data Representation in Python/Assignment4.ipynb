{
 "cells": [
  {
   "cell_type": "markdown",
   "metadata": {},
   "source": [
    "# Assignment 4\n",
    "\n",
    "Before working on this assignment please read these instructions fully. In the submission area, you will notice that you can click the link to **Preview the Grading** for each step of the assignment. This is the criteria that will be used for peer grading. Please familiarize yourself with the criteria before beginning the assignment.\n",
    "\n",
    "This assignment requires that you to find **at least** two datasets on the web which are related, and that you visualize these datasets to answer a question with the broad topic of **economic activity or measures** (see below) for the region of **None, None, Poland**, or **Poland** more broadly.\n",
    "\n",
    "You can merge these datasets with data from different regions if you like! For instance, you might want to compare **None, None, Poland** to Ann Arbor, USA. In that case at least one source file must be about **None, None, Poland**.\n",
    "\n",
    "You are welcome to choose datasets at your discretion, but keep in mind **they will be shared with your peers**, so choose appropriate datasets. Sensitive, confidential, illicit, and proprietary materials are not good choices for datasets for this assignment. You are welcome to upload datasets of your own as well, and link to them using a third party repository such as github, bitbucket, pastebin, etc. Please be aware of the Coursera terms of service with respect to intellectual property.\n",
    "\n",
    "Also, you are welcome to preserve data in its original language, but for the purposes of grading you should provide english translations. You are welcome to provide multiple visuals in different languages if you would like!\n",
    "\n",
    "As this assignment is for the whole course, you must incorporate principles discussed in the first week, such as having as high data-ink ratio (Tufte) and aligning with Cairo’s principles of truth, beauty, function, and insight.\n",
    "\n",
    "Here are the assignment instructions:\n",
    "\n",
    " * State the region and the domain category that your data sets are about (e.g., **None, None, Poland** and **economic activity or measures**).\n",
    " * You must state a question about the domain category and region that you identified as being interesting.\n",
    " * You must provide at least two links to available datasets. These could be links to files such as CSV or Excel files, or links to websites which might have data in tabular form, such as Wikipedia pages.\n",
    " * You must upload an image which addresses the research question you stated. In addition to addressing the question, this visual should follow Cairo's principles of truthfulness, functionality, beauty, and insightfulness.\n",
    " * You must contribute a short (1-2 paragraph) written justification of how your visualization addresses your stated research question.\n",
    "\n",
    "What do we mean by **economic activity or measures**?  For this category you might look at the inputs or outputs to the given economy, or major changes in the economy compared to other regions.\n",
    "\n",
    "## Tips\n",
    "* Wikipedia is an excellent source of data, and I strongly encourage you to explore it for new data sources.\n",
    "* Many governments run open data initiatives at the city, region, and country levels, and these are wonderful resources for localized data sources.\n",
    "* Several international agencies, such as the [United Nations](http://data.un.org/), the [World Bank](http://data.worldbank.org/), the [Global Open Data Index](http://index.okfn.org/place/) are other great places to look for data.\n",
    "* This assignment requires you to convert and clean datafiles. Check out the discussion forums for tips on how to do this from various sources, and share your successes with your fellow students!\n",
    "\n",
    "## Example\n",
    "Looking for an example? Here's what our course assistant put together for the **Ann Arbor, MI, USA** area using **sports and athletics** as the topic. [Example Solution File](./readonly/Assignment4_example.pdf)"
   ]
  },
  {
   "cell_type": "markdown",
   "metadata": {
    "collapsed": true
   },
   "source": [
    "\n"
   ]
  },
  {
   "cell_type": "markdown",
   "metadata": {},
   "source": [
    "---"
   ]
  },
  {
   "cell_type": "markdown",
   "metadata": {
    "collapsed": true
   },
   "source": [
    "# 1. Region and Domain"
   ]
  },
  {
   "cell_type": "markdown",
   "metadata": {},
   "source": [
    "<br>\n",
    "In this notebook I would like to focus on <b>Poland</b> and its two biggest airports - <b>Balice Airport</b> near Kraków and <b>Warsaw Chopin Airport</b>. My domain will be airtrafic and airports growth.\n",
    "<br>\n",
    "<br>"
   ]
  },
  {
   "cell_type": "markdown",
   "metadata": {},
   "source": [
    "# 2. Research Question"
   ]
  },
  {
   "cell_type": "markdown",
   "metadata": {},
   "source": [
    "<br>\n",
    "How much both airports have grown over the years and which one is growing relatively faster? Here, I would like to take under consideration the total number of passangers served and its change year-to-year.\n",
    "<br>\n",
    "<br>"
   ]
  },
  {
   "cell_type": "markdown",
   "metadata": {},
   "source": [
    "# 3. Links"
   ]
  },
  {
   "cell_type": "markdown",
   "metadata": {},
   "source": [
    "---\n",
    "\n",
    "[Balice Airport](https://en.wikipedia.org/wiki/Krak%C3%B3w_John_Paul_II_International_Airport )\n",
    "\n",
    "[Warsaw Chopin Airport](https://en.wikipedia.org/wiki/Warsaw_Chopin_Airport)\n",
    "\n",
    "---\n",
    "\n",
    "Data has been taken from above Wikipedia pages and I put it into Excel file with two spreadsheets, which can be accessed on my GitHub page. It is also uploaded to Jupyter Notebook's directory, therefore there is no url link in pandas read_excel function.\n",
    "\n",
    "[Dataset](https://github.com/kosek-g/Applied_DS_University_of_Michigan/tree/main/Course_2_Plotting/Final_assignment)\n",
    "\n",
    "---"
   ]
  },
  {
   "cell_type": "markdown",
   "metadata": {},
   "source": [
    "# 4. Data Preparation"
   ]
  },
  {
   "cell_type": "code",
   "execution_count": 143,
   "metadata": {},
   "outputs": [],
   "source": [
    "# Imports\n",
    "\n",
    "import pandas as pd\n",
    "import numpy as np"
   ]
  },
  {
   "cell_type": "code",
   "execution_count": 144,
   "metadata": {},
   "outputs": [],
   "source": [
    "# load data\n",
    "\n",
    "df_b = pd.read_excel('airports_balice.xlsx') #DataFrame for Balice Airport\n",
    "df_w = pd.read_excel('airports_warszawa.xlsx') #DataFrame for Warszawa Airport"
   ]
  },
  {
   "cell_type": "markdown",
   "metadata": {
    "collapsed": true
   },
   "source": [
    "Lets display few rows for both DataFrames"
   ]
  },
  {
   "cell_type": "code",
   "execution_count": 145,
   "metadata": {},
   "outputs": [
    {
     "data": {
      "text/html": [
       "<div>\n",
       "<style scoped>\n",
       "    .dataframe tbody tr th:only-of-type {\n",
       "        vertical-align: middle;\n",
       "    }\n",
       "\n",
       "    .dataframe tbody tr th {\n",
       "        vertical-align: top;\n",
       "    }\n",
       "\n",
       "    .dataframe thead th {\n",
       "        text-align: right;\n",
       "    }\n",
       "</style>\n",
       "<table border=\"1\" class=\"dataframe\">\n",
       "  <thead>\n",
       "    <tr style=\"text-align: right;\">\n",
       "      <th></th>\n",
       "      <th>Year</th>\n",
       "      <th>Passenger Count</th>\n",
       "    </tr>\n",
       "  </thead>\n",
       "  <tbody>\n",
       "    <tr>\n",
       "      <th>0</th>\n",
       "      <td>2003</td>\n",
       "      <td>593.214</td>\n",
       "    </tr>\n",
       "    <tr>\n",
       "      <th>1</th>\n",
       "      <td>2004</td>\n",
       "      <td>841.123</td>\n",
       "    </tr>\n",
       "    <tr>\n",
       "      <th>2</th>\n",
       "      <td>2005</td>\n",
       "      <td>1,586,130</td>\n",
       "    </tr>\n",
       "    <tr>\n",
       "      <th>3</th>\n",
       "      <td>2006</td>\n",
       "      <td>2,367,257</td>\n",
       "    </tr>\n",
       "    <tr>\n",
       "      <th>4</th>\n",
       "      <td>2007</td>\n",
       "      <td>3,068,199</td>\n",
       "    </tr>\n",
       "  </tbody>\n",
       "</table>\n",
       "</div>"
      ],
      "text/plain": [
       "   Year Passenger Count\n",
       "0  2003         593.214\n",
       "1  2004         841.123\n",
       "2  2005       1,586,130\n",
       "3  2006       2,367,257\n",
       "4  2007       3,068,199"
      ]
     },
     "execution_count": 145,
     "metadata": {},
     "output_type": "execute_result"
    }
   ],
   "source": [
    "df_b.head()"
   ]
  },
  {
   "cell_type": "code",
   "execution_count": 146,
   "metadata": {},
   "outputs": [
    {
     "data": {
      "text/html": [
       "<div>\n",
       "<style scoped>\n",
       "    .dataframe tbody tr th:only-of-type {\n",
       "        vertical-align: middle;\n",
       "    }\n",
       "\n",
       "    .dataframe tbody tr th {\n",
       "        vertical-align: top;\n",
       "    }\n",
       "\n",
       "    .dataframe thead th {\n",
       "        text-align: right;\n",
       "    }\n",
       "</style>\n",
       "<table border=\"1\" class=\"dataframe\">\n",
       "  <thead>\n",
       "    <tr style=\"text-align: right;\">\n",
       "      <th></th>\n",
       "      <th>Year</th>\n",
       "      <th>Passengers</th>\n",
       "    </tr>\n",
       "  </thead>\n",
       "  <tbody>\n",
       "    <tr>\n",
       "      <th>0</th>\n",
       "      <td>2005</td>\n",
       "      <td>7,071,881</td>\n",
       "    </tr>\n",
       "    <tr>\n",
       "      <th>1</th>\n",
       "      <td>2006</td>\n",
       "      <td>8,101,827</td>\n",
       "    </tr>\n",
       "    <tr>\n",
       "      <th>2</th>\n",
       "      <td>2007</td>\n",
       "      <td>9,268,476</td>\n",
       "    </tr>\n",
       "    <tr>\n",
       "      <th>3</th>\n",
       "      <td>2008</td>\n",
       "      <td>9,460,606</td>\n",
       "    </tr>\n",
       "    <tr>\n",
       "      <th>4</th>\n",
       "      <td>2009</td>\n",
       "      <td>8,320,927</td>\n",
       "    </tr>\n",
       "  </tbody>\n",
       "</table>\n",
       "</div>"
      ],
      "text/plain": [
       "   Year Passengers\n",
       "0  2005  7,071,881\n",
       "1  2006  8,101,827\n",
       "2  2007  9,268,476\n",
       "3  2008  9,460,606\n",
       "4  2009  8,320,927"
      ]
     },
     "execution_count": 146,
     "metadata": {},
     "output_type": "execute_result"
    }
   ],
   "source": [
    "df_w.head()"
   ]
  },
  {
   "cell_type": "markdown",
   "metadata": {},
   "source": [
    "Firs of all, I need to get rid of commas in 'Passanger Count' columns and conver values to numbers (int64)."
   ]
  },
  {
   "cell_type": "code",
   "execution_count": 147,
   "metadata": {},
   "outputs": [],
   "source": [
    "df_w = df_w.replace(to_replace=r'[.,]', value='', regex=True)\n",
    "df_b = df_b.replace(to_replace=r'[.,]', value='', regex=True)"
   ]
  },
  {
   "cell_type": "code",
   "execution_count": 148,
   "metadata": {
    "scrolled": true
   },
   "outputs": [],
   "source": [
    "df_w = df_w.astype({'Passengers': 'int'})\n",
    "df_b = df_b.astype({'Passenger Count': 'int'})"
   ]
  },
  {
   "cell_type": "markdown",
   "metadata": {},
   "source": [
    "Because passengers count for Balice Airport starts with 2003 and for Warsaw's Airport from 2005. I'm going to remove first 2 rows and the one for 2021 year in order to keep the same shape and show consistence data. I will also change column name to just 'Passangers' as in df_w,"
   ]
  },
  {
   "cell_type": "code",
   "execution_count": 149,
   "metadata": {},
   "outputs": [],
   "source": [
    "df_b = df_b.iloc[2:-1 , : ]\n",
    "df_b = df_b.rename(columns={'Passenger Count': 'Passengers'})\n",
    "df_b = df_b.reset_index()\n",
    "df_b = df_b.drop('index', axis = 1)"
   ]
  },
  {
   "cell_type": "markdown",
   "metadata": {},
   "source": [
    "The next step will be to add percentage change between the current and a prior element. Thanks to that. I will be able to see which airport has been growing faster."
   ]
  },
  {
   "cell_type": "code",
   "execution_count": 150,
   "metadata": {},
   "outputs": [],
   "source": [
    "df_b['percentage_change'] = df_b.Passengers.pct_change()*100\n",
    "df_w['percentage_change'] = df_w.Passengers.pct_change()*100"
   ]
  },
  {
   "cell_type": "code",
   "execution_count": 151,
   "metadata": {},
   "outputs": [],
   "source": [
    "# Round percentage values to 2 decimals\n",
    "\n",
    "df_b = df_b.round(2)\n",
    "df_w = df_w.round(2)"
   ]
  },
  {
   "cell_type": "markdown",
   "metadata": {},
   "source": [
    "Let's display few rows for each DataFrames."
   ]
  },
  {
   "cell_type": "code",
   "execution_count": 152,
   "metadata": {},
   "outputs": [
    {
     "data": {
      "text/html": [
       "<div>\n",
       "<style scoped>\n",
       "    .dataframe tbody tr th:only-of-type {\n",
       "        vertical-align: middle;\n",
       "    }\n",
       "\n",
       "    .dataframe tbody tr th {\n",
       "        vertical-align: top;\n",
       "    }\n",
       "\n",
       "    .dataframe thead th {\n",
       "        text-align: right;\n",
       "    }\n",
       "</style>\n",
       "<table border=\"1\" class=\"dataframe\">\n",
       "  <thead>\n",
       "    <tr style=\"text-align: right;\">\n",
       "      <th></th>\n",
       "      <th>Year</th>\n",
       "      <th>Passengers</th>\n",
       "      <th>percentage_change</th>\n",
       "    </tr>\n",
       "  </thead>\n",
       "  <tbody>\n",
       "    <tr>\n",
       "      <th>0</th>\n",
       "      <td>2005</td>\n",
       "      <td>1586130</td>\n",
       "      <td>NaN</td>\n",
       "    </tr>\n",
       "    <tr>\n",
       "      <th>1</th>\n",
       "      <td>2006</td>\n",
       "      <td>2367257</td>\n",
       "      <td>49.25</td>\n",
       "    </tr>\n",
       "    <tr>\n",
       "      <th>2</th>\n",
       "      <td>2007</td>\n",
       "      <td>3068199</td>\n",
       "      <td>29.61</td>\n",
       "    </tr>\n",
       "    <tr>\n",
       "      <th>3</th>\n",
       "      <td>2008</td>\n",
       "      <td>2923961</td>\n",
       "      <td>-4.70</td>\n",
       "    </tr>\n",
       "    <tr>\n",
       "      <th>4</th>\n",
       "      <td>2009</td>\n",
       "      <td>2680322</td>\n",
       "      <td>-8.33</td>\n",
       "    </tr>\n",
       "  </tbody>\n",
       "</table>\n",
       "</div>"
      ],
      "text/plain": [
       "   Year  Passengers  percentage_change\n",
       "0  2005     1586130                NaN\n",
       "1  2006     2367257              49.25\n",
       "2  2007     3068199              29.61\n",
       "3  2008     2923961              -4.70\n",
       "4  2009     2680322              -8.33"
      ]
     },
     "execution_count": 152,
     "metadata": {},
     "output_type": "execute_result"
    }
   ],
   "source": [
    "df_b.head()"
   ]
  },
  {
   "cell_type": "code",
   "execution_count": 153,
   "metadata": {},
   "outputs": [
    {
     "data": {
      "text/html": [
       "<div>\n",
       "<style scoped>\n",
       "    .dataframe tbody tr th:only-of-type {\n",
       "        vertical-align: middle;\n",
       "    }\n",
       "\n",
       "    .dataframe tbody tr th {\n",
       "        vertical-align: top;\n",
       "    }\n",
       "\n",
       "    .dataframe thead th {\n",
       "        text-align: right;\n",
       "    }\n",
       "</style>\n",
       "<table border=\"1\" class=\"dataframe\">\n",
       "  <thead>\n",
       "    <tr style=\"text-align: right;\">\n",
       "      <th></th>\n",
       "      <th>Year</th>\n",
       "      <th>Passengers</th>\n",
       "      <th>percentage_change</th>\n",
       "    </tr>\n",
       "  </thead>\n",
       "  <tbody>\n",
       "    <tr>\n",
       "      <th>0</th>\n",
       "      <td>2005</td>\n",
       "      <td>7071881</td>\n",
       "      <td>NaN</td>\n",
       "    </tr>\n",
       "    <tr>\n",
       "      <th>1</th>\n",
       "      <td>2006</td>\n",
       "      <td>8101827</td>\n",
       "      <td>14.56</td>\n",
       "    </tr>\n",
       "    <tr>\n",
       "      <th>2</th>\n",
       "      <td>2007</td>\n",
       "      <td>9268476</td>\n",
       "      <td>14.40</td>\n",
       "    </tr>\n",
       "    <tr>\n",
       "      <th>3</th>\n",
       "      <td>2008</td>\n",
       "      <td>9460606</td>\n",
       "      <td>2.07</td>\n",
       "    </tr>\n",
       "    <tr>\n",
       "      <th>4</th>\n",
       "      <td>2009</td>\n",
       "      <td>8320927</td>\n",
       "      <td>-12.05</td>\n",
       "    </tr>\n",
       "  </tbody>\n",
       "</table>\n",
       "</div>"
      ],
      "text/plain": [
       "   Year  Passengers  percentage_change\n",
       "0  2005     7071881                NaN\n",
       "1  2006     8101827              14.56\n",
       "2  2007     9268476              14.40\n",
       "3  2008     9460606               2.07\n",
       "4  2009     8320927             -12.05"
      ]
     },
     "execution_count": 153,
     "metadata": {},
     "output_type": "execute_result"
    }
   ],
   "source": [
    "df_w.head()"
   ]
  },
  {
   "cell_type": "markdown",
   "metadata": {},
   "source": [
    "Finaly, I will concatenate two DataFrames so we could visualize the data and create a running totals for perecentage change (this will help to visualize the growth)."
   ]
  },
  {
   "cell_type": "code",
   "execution_count": 154,
   "metadata": {},
   "outputs": [],
   "source": [
    "dfs = pd.merge(df_b, df_w, left_index=True, right_index=True, how='outer')\n",
    "dfs = dfs.rename(columns={'Year_x': 'Year', 'Passengers_x': 'Passengers_balice', 'percentage_change_x': 'percentage_change_b',\n",
    "                          'Passengers_y': 'Passengers_warsaw', 'percentage_change_y': 'percentage_change_w'})\n",
    "\n",
    "dfs = dfs.drop('Year_y', axis = 1)"
   ]
  },
  {
   "cell_type": "code",
   "execution_count": 155,
   "metadata": {},
   "outputs": [],
   "source": [
    "dfs['run_total_b'] = dfs['percentage_change_b'].cumsum()\n",
    "dfs['run_total_w'] = dfs['percentage_change_w'].cumsum()"
   ]
  },
  {
   "cell_type": "code",
   "execution_count": 156,
   "metadata": {
    "scrolled": true
   },
   "outputs": [
    {
     "data": {
      "text/html": [
       "<div>\n",
       "<style scoped>\n",
       "    .dataframe tbody tr th:only-of-type {\n",
       "        vertical-align: middle;\n",
       "    }\n",
       "\n",
       "    .dataframe tbody tr th {\n",
       "        vertical-align: top;\n",
       "    }\n",
       "\n",
       "    .dataframe thead th {\n",
       "        text-align: right;\n",
       "    }\n",
       "</style>\n",
       "<table border=\"1\" class=\"dataframe\">\n",
       "  <thead>\n",
       "    <tr style=\"text-align: right;\">\n",
       "      <th></th>\n",
       "      <th>Year</th>\n",
       "      <th>Passengers_balice</th>\n",
       "      <th>percentage_change_b</th>\n",
       "      <th>Passengers_warsaw</th>\n",
       "      <th>percentage_change_w</th>\n",
       "      <th>run_total_b</th>\n",
       "      <th>run_total_w</th>\n",
       "    </tr>\n",
       "  </thead>\n",
       "  <tbody>\n",
       "    <tr>\n",
       "      <th>0</th>\n",
       "      <td>2005</td>\n",
       "      <td>1586130</td>\n",
       "      <td>NaN</td>\n",
       "      <td>7071881</td>\n",
       "      <td>NaN</td>\n",
       "      <td>NaN</td>\n",
       "      <td>NaN</td>\n",
       "    </tr>\n",
       "    <tr>\n",
       "      <th>1</th>\n",
       "      <td>2006</td>\n",
       "      <td>2367257</td>\n",
       "      <td>49.25</td>\n",
       "      <td>8101827</td>\n",
       "      <td>14.56</td>\n",
       "      <td>49.25</td>\n",
       "      <td>14.56</td>\n",
       "    </tr>\n",
       "    <tr>\n",
       "      <th>2</th>\n",
       "      <td>2007</td>\n",
       "      <td>3068199</td>\n",
       "      <td>29.61</td>\n",
       "      <td>9268476</td>\n",
       "      <td>14.40</td>\n",
       "      <td>78.86</td>\n",
       "      <td>28.96</td>\n",
       "    </tr>\n",
       "    <tr>\n",
       "      <th>3</th>\n",
       "      <td>2008</td>\n",
       "      <td>2923961</td>\n",
       "      <td>-4.70</td>\n",
       "      <td>9460606</td>\n",
       "      <td>2.07</td>\n",
       "      <td>74.16</td>\n",
       "      <td>31.03</td>\n",
       "    </tr>\n",
       "    <tr>\n",
       "      <th>4</th>\n",
       "      <td>2009</td>\n",
       "      <td>2680322</td>\n",
       "      <td>-8.33</td>\n",
       "      <td>8320927</td>\n",
       "      <td>-12.05</td>\n",
       "      <td>65.83</td>\n",
       "      <td>18.98</td>\n",
       "    </tr>\n",
       "  </tbody>\n",
       "</table>\n",
       "</div>"
      ],
      "text/plain": [
       "   Year  Passengers_balice  percentage_change_b  Passengers_warsaw  \\\n",
       "0  2005            1586130                  NaN            7071881   \n",
       "1  2006            2367257                49.25            8101827   \n",
       "2  2007            3068199                29.61            9268476   \n",
       "3  2008            2923961                -4.70            9460606   \n",
       "4  2009            2680322                -8.33            8320927   \n",
       "\n",
       "   percentage_change_w  run_total_b  run_total_w  \n",
       "0                  NaN          NaN          NaN  \n",
       "1                14.56        49.25        14.56  \n",
       "2                14.40        78.86        28.96  \n",
       "3                 2.07        74.16        31.03  \n",
       "4               -12.05        65.83        18.98  "
      ]
     },
     "execution_count": 156,
     "metadata": {},
     "output_type": "execute_result"
    }
   ],
   "source": [
    "dfs.head()"
   ]
  },
  {
   "cell_type": "markdown",
   "metadata": {},
   "source": [
    "---\n",
    "# 5. Data Visualization"
   ]
  },
  {
   "cell_type": "markdown",
   "metadata": {},
   "source": [
    "<br>\n",
    "In that section I will present few graphs and try to answer to the question asked at the beggining. \n",
    "<br><br>\n",
    "Let's first display the total sum of passengers for both airports and see how big is the difference."
   ]
  },
  {
   "cell_type": "code",
   "execution_count": 157,
   "metadata": {},
   "outputs": [],
   "source": [
    "# Imports\n",
    "\n",
    "import matplotlib.pyplot as plt\n",
    "import seaborn as sns\n",
    "\n",
    "\n",
    "%matplotlib inline"
   ]
  },
  {
   "cell_type": "code",
   "execution_count": 158,
   "metadata": {},
   "outputs": [],
   "source": [
    "# Creating 'melted' DataFrame in order to create bar chart in Seaborn\n",
    "\n",
    "tidy_df = dfs[['Year', 'Passengers_balice', 'Passengers_warsaw']]\n",
    "tidy = pd.melt(tidy_df, id_vars='Year').rename(columns=str.title)"
   ]
  },
  {
   "cell_type": "code",
   "execution_count": 168,
   "metadata": {},
   "outputs": [
    {
     "data": {
      "text/plain": [
       "<function matplotlib.pyplot.show(close=None, block=None)>"
      ]
     },
     "execution_count": 168,
     "metadata": {},
     "output_type": "execute_result"
    },
    {
     "data": {
      "image/png": "[encoded data removed]",
      "text/plain": [
       "<Figure size 1080x576 with 1 Axes>"
      ]
     },
     "metadata": {},
     "output_type": "display_data"
    }
   ],
   "source": [
    "sns.set_theme()\n",
    "\n",
    "fig_dims = (15, 8)\n",
    "fig,ax = plt.subplots(figsize=fig_dims)\n",
    "sns.barplot(x='Year', y=\"Value\", data=tidy, hue='Variable',\n",
    "                 palette=\"Blues_d\", ax=ax)\n",
    "ax.set(xlabel = 'Years', ylabel = 'Passengers Count ( in 10 mln)', title = \"Total count of passengers\")\n",
    "plt.show"
   ]
  },
  {
   "cell_type": "markdown",
   "metadata": {},
   "source": [
    "It's very clear that Warsaw's Airport handles much more passengers than Balice. But let's check if it develops and grows better.\n",
    "<br><br>\n",
    "To do this I will create a line chart showing the percentage change of passengers number (running sum ) for both airports. This is a good growth indicator. "
   ]
  },
  {
   "cell_type": "code",
   "execution_count": 160,
   "metadata": {},
   "outputs": [],
   "source": [
    "# Creating 'melted' DataFrame in order to create line chart in Seaborn\n",
    "\n",
    "tidy_df2 = dfs[['Year', 'run_total_b', 'run_total_w']]\n",
    "tidy2 = pd.melt(tidy_df2, id_vars='Year').rename(columns=str.title)\n",
    "tidy2 = tidy2.replace(np.nan, 0)"
   ]
  },
  {
   "cell_type": "code",
   "execution_count": 167,
   "metadata": {},
   "outputs": [
    {
     "data": {
      "text/plain": [
       "<function matplotlib.pyplot.show(close=None, block=None)>"
      ]
     },
     "execution_count": 167,
     "metadata": {},
     "output_type": "execute_result"
    },
    {
     "data": {
      "image/png": "[encoded data removed]",
      "text/plain": [
       "<Figure size 1080x576 with 1 Axes>"
      ]
     },
     "metadata": {},
     "output_type": "display_data"
    }
   ],
   "source": [
    "fig,ax = plt.subplots(figsize=fig_dims)\n",
    "sns.lineplot(x='Year', y=\"Value\", data=tidy2, hue='Variable',\n",
    "                 palette=\"Blues_d\", ax=ax)\n",
    "ax.set(xlabel = '', ylabel = 'Running Sum of Percentage Change', title = \"Growth of Two Biggest Airports in Poland\")\n",
    "ax.set_xticks(dfs[\"Year\"])\n",
    "ax.grid(True, alpha = 0.8)\n",
    "plt.show"
   ]
  },
  {
   "cell_type": "markdown",
   "metadata": {},
   "source": [
    "This chart indicates that even that Balice Airport is a smaller airport, it has grown relatively more than Warsaw Airport throughout this 15 years. Even the 2020 decrease in numbers of passengers ( due to the Covid pandemic ) was little bit smaller. "
   ]
  },
  {
   "cell_type": "markdown",
   "metadata": {},
   "source": [
    "Let's also calculate how many times has the number of passengers increased before the 2020 while the decrease started."
   ]
  },
  {
   "cell_type": "code",
   "execution_count": 162,
   "metadata": {},
   "outputs": [],
   "source": [
    "b_min = df_b['Passengers'].min()\n",
    "b_max = df_b['Passengers'].max()\n",
    "w_min = df_w['Passengers'].min()\n",
    "w_max = df_w['Passengers'].max()\n",
    "b_change = b_max / b_min\n",
    "w_change = w_max / w_min"
   ]
  },
  {
   "cell_type": "code",
   "execution_count": 163,
   "metadata": {},
   "outputs": [
    {
     "name": "stdout",
     "output_type": "stream",
     "text": [
      "Balice Airport increased the number of passengers 5.30 times\n",
      "Warsaw Chopin Airport increased the number of passengers 3.44 times\n"
     ]
    }
   ],
   "source": [
    "print('Balice Airport increased the number of passengers {:.2f} times'.format(b_change))\n",
    "print('Warsaw Chopin Airport increased the number of passengers {:.2f} times'.format(w_change))"
   ]
  },
  {
   "cell_type": "markdown",
   "metadata": {},
   "source": [
    "---\n",
    "# 6. Conclusions"
   ]
  },
  {
   "cell_type": "markdown",
   "metadata": {},
   "source": [
    "<br>\n",
    "This visualization supposed to answer to the research questions which was: \"How much both airports have grown over the years and which one is growing relatively faster?\". Thanks to Wikipedia's data I can now say that it is <b>Balice Airport</b>. Even though it handles less passengers than Warsaw, then the overall and relative growth is much bigger. The line graph shows it very clearly. Even in the first year (2005 - 2006 ) we can observe that number of passengers increased almost 50% in Balice while only around 15% in Warsaw. There were only few years where Warsaw Airport noted a bigger increase year-to-year. \n"
   ]
  },
  {
   "cell_type": "markdown",
   "metadata": {},
   "source": [
    "In this notebook I have tried to incorporate Cairo's principles of truth, beauty, function and insights. I hope that I've provided a good data represenntation which gave a good insight and knowledge about the development of two main Poland's airports. The datasets were quite simple and I have tried to keep my visualizations as simple as possible, but in the same time pleasant for the eyes. I've decided to use Seaborn as I really enjoy its basic graphical output. I think that fonts, background and general layout make analyzing much more interesting. "
   ]
  },
  {
   "cell_type": "code",
   "execution_count": null,
   "metadata": {},
   "outputs": [],
   "source": []
  }
 ],
 "metadata": {
  "kernelspec": {
   "display_name": "Python 3",
   "language": "python",
   "name": "python3"
  },
  "language_info": {
   "codemirror_mode": {
    "name": "ipython",
    "version": 3
   },
   "file_extension": ".py",
   "mimetype": "text/x-python",
   "name": "python",
   "nbconvert_exporter": "python",
   "pygments_lexer": "ipython3",
   "version": "3.8.8"
  }
 },
 "nbformat": 4,
 "nbformat_minor": 1
}
